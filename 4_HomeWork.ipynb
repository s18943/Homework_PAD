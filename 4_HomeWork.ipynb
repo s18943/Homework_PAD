{
  "nbformat": 4,
  "nbformat_minor": 0,
  "metadata": {
    "colab": {
      "name": "4.HomeWork.ipynb",
      "provenance": [],
      "authorship_tag": "ABX9TyMz+/+6+hVwgq6/t0KgxdL9",
      "include_colab_link": true
    },
    "kernelspec": {
      "name": "python3",
      "display_name": "Python 3"
    },
    "language_info": {
      "name": "python"
    }
  },
  "cells": [
    {
      "cell_type": "markdown",
      "metadata": {
        "id": "view-in-github",
        "colab_type": "text"
      },
      "source": [
        "<a href=\"https://colab.research.google.com/github/s18943/Homework_PAD/blob/master/4_HomeWork.ipynb\" target=\"_parent\"><img src=\"https://colab.research.google.com/assets/colab-badge.svg\" alt=\"Open In Colab\"/></a>"
      ]
    },
    {
      "cell_type": "code",
      "execution_count": 63,
      "metadata": {
        "id": "4Pa5HRetOj7M"
      },
      "outputs": [],
      "source": [
        "import numpy as np\n",
        "import pandas as pd\n",
        "from collections import defaultdict "
      ]
    },
    {
      "cell_type": "markdown",
      "source": [
        "# Zadanie 1\n"
      ],
      "metadata": {
        "id": "2RICBQfOQEKg"
      }
    },
    {
      "cell_type": "code",
      "source": [
        "data = np.genfromtxt(\"Zadanie_1.csv\", delimiter=';')\n",
        "\n",
        "  "
      ],
      "metadata": {
        "id": "Qfi11mJ_PouZ"
      },
      "execution_count": 10,
      "outputs": []
    },
    {
      "cell_type": "code",
      "source": [
        "\n",
        "print('Komurki ',data.shape[1]*data.shape[0])\n",
        "print('Wierszy ',data.shape[0])\n",
        "print('Kolumny ',data.shape[1])\n",
        "\n",
        "print('Średnia ',np.mean(data))\n",
        "print('Mediana ',np.median(data))\n",
        "print('Wariancja ',np.var(data))"
      ],
      "metadata": {
        "colab": {
          "base_uri": "https://localhost:8080/"
        },
        "id": "o3yDTomdQNmg",
        "outputId": "a72e47fb-f0c3-4645-df0b-12752cbad4c6"
      },
      "execution_count": 28,
      "outputs": [
        {
          "output_type": "stream",
          "name": "stdout",
          "text": [
            "Komurki  976\n",
            "Wierszy  61\n",
            "Kolumny  16\n",
            "Średnia  nan\n",
            "Mediana  nan\n",
            "Wariancja  nan\n"
          ]
        }
      ]
    },
    {
      "cell_type": "code",
      "source": [
        "x = data\n",
        "x = x[~np.isnan(x)]\n",
        "\n",
        "print('Średnia ',np.mean(x))\n",
        "print('Mediana ',np.median(x))\n",
        "print('Wariancja ',np.var(x))"
      ],
      "metadata": {
        "colab": {
          "base_uri": "https://localhost:8080/"
        },
        "id": "WtNZpsLcTqBj",
        "outputId": "58591517-8e7f-4f15-a5cd-d3787d717bc4"
      },
      "execution_count": 29,
      "outputs": [
        {
          "output_type": "stream",
          "name": "stdout",
          "text": [
            "Średnia  338.2209319148936\n",
            "Mediana  33.4\n",
            "Wariancja  1036473.5935947594\n"
          ]
        }
      ]
    },
    {
      "cell_type": "markdown",
      "source": [
        "# Zadanie 2"
      ],
      "metadata": {
        "id": "Df6DF0kWX3cs"
      }
    },
    {
      "cell_type": "code",
      "source": [
        "np_arr_zd2 = np.genfromtxt(\"Zadanie_2.csv\", delimiter=';')\n",
        "\n",
        "np_arr_zd2.shape"
      ],
      "metadata": {
        "colab": {
          "base_uri": "https://localhost:8080/"
        },
        "id": "xEzPLzWkRsfq",
        "outputId": "d92c52d3-48c7-4c8e-fe74-750814c34b27"
      },
      "execution_count": 35,
      "outputs": [
        {
          "output_type": "execute_result",
          "data": {
            "text/plain": [
              "(10, 10)"
            ]
          },
          "metadata": {},
          "execution_count": 35
        }
      ]
    },
    {
      "cell_type": "code",
      "source": [
        "print('Wartości wlasnę ',np.linalg.eigvals(np_arr_zd2))\n",
        "print('Wektory Wlasnę ',np.linalg.eig(np_arr_zd2))\n",
        "print('Macież odwrotna ',np.linalg.inv(np_arr_zd2))"
      ],
      "metadata": {
        "colab": {
          "base_uri": "https://localhost:8080/"
        },
        "id": "CRIjpB-vTSkh",
        "outputId": "9e066bb5-fb53-4e36-82c1-af8f785b28bc"
      },
      "execution_count": 90,
      "outputs": [
        {
          "output_type": "stream",
          "name": "stdout",
          "text": [
            "Wartości wlasnę  [104.34960192 +0.j         -23.35660516+18.84992811j\n",
            " -23.35660516-18.84992811j  15.92989017 +0.j\n",
            "  -4.99456452 +0.j           0.35205717 +5.80125175j\n",
            "   0.35205717 -5.80125175j  -1.03383491 +0.j\n",
            "   3.87900166 +1.42651533j   3.87900166 -1.42651533j]\n",
            "Wektory Wlasnę  (array([104.34960192 +0.j        , -23.35660516+18.84992811j,\n",
            "       -23.35660516-18.84992811j,  15.92989017 +0.j        ,\n",
            "        -4.99456452 +0.j        ,   0.35205717 +5.80125175j,\n",
            "         0.35205717 -5.80125175j,  -1.03383491 +0.j        ,\n",
            "         3.87900166 +1.42651533j,   3.87900166 -1.42651533j]), array([[-0.29000475+0.j        , -0.07545445+0.07743149j,\n",
            "        -0.07545445-0.07743149j, -0.03544485+0.j        ,\n",
            "         0.42681634+0.j        , -0.22172831-0.29869259j,\n",
            "        -0.22172831+0.29869259j,  0.41343726+0.j        ,\n",
            "        -0.28670255+0.21891569j, -0.28670255-0.21891569j],\n",
            "       [-0.24163153+0.j        ,  0.41229621+0.09197324j,\n",
            "         0.41229621-0.09197324j,  0.45873475+0.j        ,\n",
            "        -0.27056206+0.j        , -0.01331344+0.1422557j ,\n",
            "        -0.01331344-0.1422557j , -0.31591047+0.j        ,\n",
            "         0.41954481-0.10561864j,  0.41954481+0.10561864j],\n",
            "       [-0.41060573+0.j        ,  0.37509638-0.00960818j,\n",
            "         0.37509638+0.00960818j,  0.64067986+0.j        ,\n",
            "        -0.37967609+0.j        , -0.60525232+0.j        ,\n",
            "        -0.60525232-0.j        ,  0.6457768 +0.j        ,\n",
            "         0.63631555+0.j        ,  0.63631555-0.j        ],\n",
            "       [-0.18899971+0.j        , -0.05624951+0.174848j  ,\n",
            "        -0.05624951-0.174848j  ,  0.25174536+0.j        ,\n",
            "        -0.07625465+0.j        , -0.14870016-0.00795735j,\n",
            "        -0.14870016+0.00795735j,  0.15206852+0.j        ,\n",
            "         0.21373907+0.00228636j,  0.21373907-0.00228636j],\n",
            "       [-0.42862199+0.j        ,  0.47707538+0.14580554j,\n",
            "         0.47707538-0.14580554j,  0.39445834+0.j        ,\n",
            "        -0.69542141+0.j        ,  0.07336021-0.43070469j,\n",
            "         0.07336021+0.43070469j, -0.25948775+0.j        ,\n",
            "         0.20250102-0.00411374j,  0.20250102+0.00411374j],\n",
            "       [-0.14730562+0.j        , -0.57352911+0.j        ,\n",
            "        -0.57352911-0.j        ,  0.10071325+0.j        ,\n",
            "         0.30158403+0.j        , -0.04758838+0.12911829j,\n",
            "        -0.04758838-0.12911829j,  0.21274791+0.j        ,\n",
            "        -0.1503483 +0.03452906j, -0.1503483 -0.03452906j],\n",
            "       [-0.34660607+0.j        , -0.13987374+0.06837303j,\n",
            "        -0.13987374-0.06837303j, -0.04800705+0.j        ,\n",
            "         0.06798106+0.j        ,  0.00512204+0.04215641j,\n",
            "         0.00512204-0.04215641j,  0.05365357+0.j        ,\n",
            "        -0.0534517 +0.00550802j, -0.0534517 -0.00550802j],\n",
            "       [-0.34919853+0.j        , -0.08414467+0.07749664j,\n",
            "        -0.08414467-0.07749664j,  0.25925893+0.j        ,\n",
            "        -0.10039982+0.j        , -0.06761437-0.25584347j,\n",
            "        -0.06761437+0.25584347j, -0.38214447+0.j        ,\n",
            "         0.29485109-0.01300678j,  0.29485109+0.01300678j],\n",
            "       [-0.2440048 +0.j        , -0.13777908+0.00402196j,\n",
            "        -0.13777908-0.00402196j,  0.27709282+0.j        ,\n",
            "        -0.00524365+0.j        ,  0.21866893+0.04463336j,\n",
            "         0.21866893-0.04463336j, -0.12045798+0.j        ,\n",
            "         0.27558332+0.02285482j,  0.27558332-0.02285482j],\n",
            "       [-0.38231403+0.j        , -0.00476199+0.03456836j,\n",
            "        -0.00476199-0.03456836j,  0.04918165+0.j        ,\n",
            "         0.07322815+0.j        ,  0.1819345 -0.29687727j,\n",
            "         0.1819345 +0.29687727j, -0.11445044+0.j        ,\n",
            "         0.02830199+0.00579727j,  0.02830199-0.00579727j]]))\n",
            "Macież odwrotna  [[ 0.47461371  0.13269253 -0.24726695 -0.82965177  0.28250384 -0.17012825\n",
            "   0.58274426  0.83686705  0.4146721  -1.56942847]\n",
            " [-0.38032531 -0.11226789  0.23216372  0.58853747 -0.2508954   0.10174485\n",
            "  -0.40729564 -0.58325689 -0.2335154   1.11832726]\n",
            " [ 0.13559662  0.58950334 -0.24709855 -0.58789838 -0.30170699 -0.12721938\n",
            "   0.23740295  1.01003036 -0.02151387 -0.64590149]\n",
            " [ 0.01425207  0.14570726 -0.04557569 -0.12721972 -0.08945184 -0.03756624\n",
            "   0.03910376  0.23606066 -0.01436771 -0.11345749]\n",
            " [-0.09473246  0.01725249  0.19145597  0.32960274 -0.28626296  0.08348529\n",
            "  -0.37577603 -0.27295934 -0.25855803  0.74691827]\n",
            " [ 0.16387032  0.10075684 -0.15404907 -0.29794662  0.16916877 -0.02827782\n",
            "   0.20469921  0.28036265  0.15086178 -0.5882585 ]\n",
            " [ 0.04288003  0.02246462 -0.0366803  -0.09024915  0.04322146 -0.01047861\n",
            "   0.06167348  0.07009721  0.0367806  -0.14185925]\n",
            " [-0.26858433 -0.21167346  0.25168367  0.55607234 -0.16804333  0.01066975\n",
            "  -0.22435849 -0.52957038 -0.15757224  0.77302113]\n",
            " [-0.15583541 -0.13041404  0.0984558   0.3150966  -0.09916278 -0.04426337\n",
            "  -0.20832614 -0.18404388 -0.04309498  0.45794224]\n",
            " [-0.05970783 -0.11342903  0.09122544  0.11908074 -0.00311646  0.02370807\n",
            "  -0.07526552 -0.06924544 -0.10963836  0.16553689]]\n"
          ]
        }
      ]
    },
    {
      "cell_type": "markdown",
      "source": [
        "# Zadanie 3\n"
      ],
      "metadata": {
        "id": "yR8F1CCUeZlr"
      }
    },
    {
      "cell_type": "code",
      "source": [
        "np_arr_zd3_A = np.genfromtxt(\"Zadanie_3_macierz_A.csv\", delimiter=',')\n",
        "np_arr_zd3_B = np.genfromtxt(\"Zadanie_3_macierz_B.csv\", delimiter=',')\n",
        "\n",
        "def cos_simularity(x, y):\n",
        "    norm_x = x / np.linalg.norm(x, axis=1, keepdims=True)\n",
        "    norm_y = y / np.linalg.norm(y, axis=1, keepdims=True)\n",
        "    return np.matmul(norm_x, norm_y.T)\n",
        "\n",
        "cos_simularity(np_arr_zd3_A, np_arr_zd3_B)"
      ],
      "metadata": {
        "colab": {
          "base_uri": "https://localhost:8080/"
        },
        "id": "eyc67sBRaCby",
        "outputId": "d619417c-1895-466b-95f0-fb4ed77a5a59"
      },
      "execution_count": 54,
      "outputs": [
        {
          "output_type": "execute_result",
          "data": {
            "text/plain": [
              "array([[0.7970534 , 0.93075784, 0.85152689, 0.80479273, 0.86772183],\n",
              "       [0.3985267 , 0.56879646, 0.57428557, 0.32694705, 0.97618706],\n",
              "       [0.92108283, 0.9763075 , 0.91890016, 0.9336035 , 0.69421013]])"
            ]
          },
          "metadata": {},
          "execution_count": 54
        }
      ]
    },
    {
      "cell_type": "markdown",
      "source": [
        "# Zadanie 4\n"
      ],
      "metadata": {
        "id": "yuUnvAIohONU"
      }
    },
    {
      "cell_type": "code",
      "source": [
        "df_zd4 = pd.read_csv(\"Zadanie_4.csv\", sep=';').dropna(axis=1)\n",
        "df_zd4['dat_id'] = df_zd4['DateTime'].apply(lambda x: x[:-5])\n"
      ],
      "metadata": {
        "id": "ME8ScGUWhPzJ"
      },
      "execution_count": null,
      "outputs": []
    },
    {
      "cell_type": "code",
      "source": [
        "grouped_df_zd4 = df_zd4.groupby(['DoctorID', 'dat_id'])\n",
        "new_df_dict = defaultdict(list)\n",
        "for i, j in grouped_df_zd4:\n",
        "  DoctorID = j['DoctorID'].iloc[0]\n",
        "  Type = j['Type'].iloc[0]\n",
        "  City = j['City'].iloc[0]\n",
        "  j['DateTime']= pd.to_datetime(j['DateTime'], format=\"%d.%m.%Y %H:%M\")\n",
        "  j_iterr = j.iterrows()\n",
        "  first_row = next(j_iterr)[1]\n",
        "  prew_row = first_row\n",
        "  flag = True\n",
        "  for _, row in j_iterr:\n",
        "    flag = True\n",
        "    if not (row['DateTime']-prew_row['DateTime']).total_seconds() / 60 <= 1:\n",
        "      new_df_dict['From Time'].append(first_row['DateTime'].strftime(\"%d.%m.%Y %H:%M\"))\n",
        "      new_df_dict['To Time'].append(prew_row['DateTime'].strftime(\"%d.%m.%Y %H:%M\"))\n",
        "      new_df_dict['DoctorID'].append(DoctorID)\n",
        "      new_df_dict['Type'].append(Type)\n",
        "      new_df_dict['City'].append(City)\n",
        "      flag = False\n",
        "      first_row = row\n",
        "    prew_row = row\n",
        "  if flag:\n",
        "    new_df_dict['From Time'].append(first_row['DateTime'].strftime(\"%d.%m.%Y %H:%M\"))\n",
        "    new_df_dict['To Time'].append(prew_row['DateTime'].strftime(\"%d.%m.%Y %H:%M\"))\n",
        "    new_df_dict['DoctorID'].append(DoctorID)\n",
        "    new_df_dict['Type'].append(Type)\n",
        "    new_df_dict['City'].append(City)\n",
        "\n",
        "final_df_zd4 = pd.DataFrame(new_df_dict)\n",
        "final_df_zd4"
      ],
      "metadata": {
        "colab": {
          "base_uri": "https://localhost:8080/",
          "height": 327
        },
        "id": "omxo2w2FnZMe",
        "outputId": "a1d47813-3e5e-4550-e628-8fef0332d0e1"
      },
      "execution_count": 89,
      "outputs": [
        {
          "output_type": "stream",
          "name": "stdout",
          "text": [
            "(1, '16.03.2020 ')\n",
            "(1, '29.03.2020 ')\n",
            "(2, '16.03.2020 ')\n",
            "(3, '22.03.2020 ')\n",
            "(4, '10.04.2020 ')\n"
          ]
        },
        {
          "output_type": "execute_result",
          "data": {
            "text/plain": [
              "          From Time           To Time  DoctorID           Type    City\n",
              "0  16.03.2020 12:00  16.03.2020 12:16         1             GP  Warsaw\n",
              "1  16.03.2020 13:49  16.03.2020 14:01         1             GP  Warsaw\n",
              "2  29.03.2020 14:00  29.03.2020 14:37         1             GP  Warsaw\n",
              "3  16.03.2020 12:00  16.03.2020 12:49         2             GP  Krakow\n",
              "4  22.03.2020 08:01  22.03.2020 09:06         3        Sugreon  Warsaw\n",
              "5  10.04.2020 13:20  10.04.2020 13:34         4  Opthomologist  Krakow"
            ],
            "text/html": [
              "\n",
              "  <div id=\"df-16e3f4a3-3798-4bb4-92ef-6b2b628fc6f2\">\n",
              "    <div class=\"colab-df-container\">\n",
              "      <div>\n",
              "<style scoped>\n",
              "    .dataframe tbody tr th:only-of-type {\n",
              "        vertical-align: middle;\n",
              "    }\n",
              "\n",
              "    .dataframe tbody tr th {\n",
              "        vertical-align: top;\n",
              "    }\n",
              "\n",
              "    .dataframe thead th {\n",
              "        text-align: right;\n",
              "    }\n",
              "</style>\n",
              "<table border=\"1\" class=\"dataframe\">\n",
              "  <thead>\n",
              "    <tr style=\"text-align: right;\">\n",
              "      <th></th>\n",
              "      <th>From Time</th>\n",
              "      <th>To Time</th>\n",
              "      <th>DoctorID</th>\n",
              "      <th>Type</th>\n",
              "      <th>City</th>\n",
              "    </tr>\n",
              "  </thead>\n",
              "  <tbody>\n",
              "    <tr>\n",
              "      <th>0</th>\n",
              "      <td>16.03.2020 12:00</td>\n",
              "      <td>16.03.2020 12:16</td>\n",
              "      <td>1</td>\n",
              "      <td>GP</td>\n",
              "      <td>Warsaw</td>\n",
              "    </tr>\n",
              "    <tr>\n",
              "      <th>1</th>\n",
              "      <td>16.03.2020 13:49</td>\n",
              "      <td>16.03.2020 14:01</td>\n",
              "      <td>1</td>\n",
              "      <td>GP</td>\n",
              "      <td>Warsaw</td>\n",
              "    </tr>\n",
              "    <tr>\n",
              "      <th>2</th>\n",
              "      <td>29.03.2020 14:00</td>\n",
              "      <td>29.03.2020 14:37</td>\n",
              "      <td>1</td>\n",
              "      <td>GP</td>\n",
              "      <td>Warsaw</td>\n",
              "    </tr>\n",
              "    <tr>\n",
              "      <th>3</th>\n",
              "      <td>16.03.2020 12:00</td>\n",
              "      <td>16.03.2020 12:49</td>\n",
              "      <td>2</td>\n",
              "      <td>GP</td>\n",
              "      <td>Krakow</td>\n",
              "    </tr>\n",
              "    <tr>\n",
              "      <th>4</th>\n",
              "      <td>22.03.2020 08:01</td>\n",
              "      <td>22.03.2020 09:06</td>\n",
              "      <td>3</td>\n",
              "      <td>Sugreon</td>\n",
              "      <td>Warsaw</td>\n",
              "    </tr>\n",
              "    <tr>\n",
              "      <th>5</th>\n",
              "      <td>10.04.2020 13:20</td>\n",
              "      <td>10.04.2020 13:34</td>\n",
              "      <td>4</td>\n",
              "      <td>Opthomologist</td>\n",
              "      <td>Krakow</td>\n",
              "    </tr>\n",
              "  </tbody>\n",
              "</table>\n",
              "</div>\n",
              "      <button class=\"colab-df-convert\" onclick=\"convertToInteractive('df-16e3f4a3-3798-4bb4-92ef-6b2b628fc6f2')\"\n",
              "              title=\"Convert this dataframe to an interactive table.\"\n",
              "              style=\"display:none;\">\n",
              "        \n",
              "  <svg xmlns=\"http://www.w3.org/2000/svg\" height=\"24px\"viewBox=\"0 0 24 24\"\n",
              "       width=\"24px\">\n",
              "    <path d=\"M0 0h24v24H0V0z\" fill=\"none\"/>\n",
              "    <path d=\"M18.56 5.44l.94 2.06.94-2.06 2.06-.94-2.06-.94-.94-2.06-.94 2.06-2.06.94zm-11 1L8.5 8.5l.94-2.06 2.06-.94-2.06-.94L8.5 2.5l-.94 2.06-2.06.94zm10 10l.94 2.06.94-2.06 2.06-.94-2.06-.94-.94-2.06-.94 2.06-2.06.94z\"/><path d=\"M17.41 7.96l-1.37-1.37c-.4-.4-.92-.59-1.43-.59-.52 0-1.04.2-1.43.59L10.3 9.45l-7.72 7.72c-.78.78-.78 2.05 0 2.83L4 21.41c.39.39.9.59 1.41.59.51 0 1.02-.2 1.41-.59l7.78-7.78 2.81-2.81c.8-.78.8-2.07 0-2.86zM5.41 20L4 18.59l7.72-7.72 1.47 1.35L5.41 20z\"/>\n",
              "  </svg>\n",
              "      </button>\n",
              "      \n",
              "  <style>\n",
              "    .colab-df-container {\n",
              "      display:flex;\n",
              "      flex-wrap:wrap;\n",
              "      gap: 12px;\n",
              "    }\n",
              "\n",
              "    .colab-df-convert {\n",
              "      background-color: #E8F0FE;\n",
              "      border: none;\n",
              "      border-radius: 50%;\n",
              "      cursor: pointer;\n",
              "      display: none;\n",
              "      fill: #1967D2;\n",
              "      height: 32px;\n",
              "      padding: 0 0 0 0;\n",
              "      width: 32px;\n",
              "    }\n",
              "\n",
              "    .colab-df-convert:hover {\n",
              "      background-color: #E2EBFA;\n",
              "      box-shadow: 0px 1px 2px rgba(60, 64, 67, 0.3), 0px 1px 3px 1px rgba(60, 64, 67, 0.15);\n",
              "      fill: #174EA6;\n",
              "    }\n",
              "\n",
              "    [theme=dark] .colab-df-convert {\n",
              "      background-color: #3B4455;\n",
              "      fill: #D2E3FC;\n",
              "    }\n",
              "\n",
              "    [theme=dark] .colab-df-convert:hover {\n",
              "      background-color: #434B5C;\n",
              "      box-shadow: 0px 1px 3px 1px rgba(0, 0, 0, 0.15);\n",
              "      filter: drop-shadow(0px 1px 2px rgba(0, 0, 0, 0.3));\n",
              "      fill: #FFFFFF;\n",
              "    }\n",
              "  </style>\n",
              "\n",
              "      <script>\n",
              "        const buttonEl =\n",
              "          document.querySelector('#df-16e3f4a3-3798-4bb4-92ef-6b2b628fc6f2 button.colab-df-convert');\n",
              "        buttonEl.style.display =\n",
              "          google.colab.kernel.accessAllowed ? 'block' : 'none';\n",
              "\n",
              "        async function convertToInteractive(key) {\n",
              "          const element = document.querySelector('#df-16e3f4a3-3798-4bb4-92ef-6b2b628fc6f2');\n",
              "          const dataTable =\n",
              "            await google.colab.kernel.invokeFunction('convertToInteractive',\n",
              "                                                     [key], {});\n",
              "          if (!dataTable) return;\n",
              "\n",
              "          const docLinkHtml = 'Like what you see? Visit the ' +\n",
              "            '<a target=\"_blank\" href=https://colab.research.google.com/notebooks/data_table.ipynb>data table notebook</a>'\n",
              "            + ' to learn more about interactive tables.';\n",
              "          element.innerHTML = '';\n",
              "          dataTable['output_type'] = 'display_data';\n",
              "          await google.colab.output.renderOutput(dataTable, element);\n",
              "          const docLink = document.createElement('div');\n",
              "          docLink.innerHTML = docLinkHtml;\n",
              "          element.appendChild(docLink);\n",
              "        }\n",
              "      </script>\n",
              "    </div>\n",
              "  </div>\n",
              "  "
            ]
          },
          "metadata": {},
          "execution_count": 89
        }
      ]
    }
  ]
}