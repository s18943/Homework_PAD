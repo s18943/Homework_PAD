{
 "cells": [
  {
   "cell_type": "code",
   "execution_count": 1,
   "metadata": {},
   "outputs": [],
   "source": [
    "def plus_fifteen(liczba):\n",
    "    return liczba + 15\n",
    "\n",
    "def product(x, y):\n",
    "    result = x * y \n",
    "    print(result)\n",
    "    return result\n"
   ]
  },
  {
   "cell_type": "code",
   "execution_count": 11,
   "metadata": {},
   "outputs": [],
   "source": [
    "def sort_list_dicts():\n",
    "    list_dicts = [{'make': 'Nokia', 'model': 216, 'color': 'Black'}, {'make': 'Mi Max', 'model': '2', 'color': 'Gold'}, {'make': 'Samsung', 'model': 7, 'color': 'Blue'}]\n",
    "    dict_sort_key = input('Sort by: ')\n",
    "    if dict_sort_key in list_dicts[0].keys():\n",
    "        return sorted(list_dicts, key = lambda x: x[dict_sort_key])\n"
   ]
  },
  {
   "cell_type": "code",
   "execution_count": 12,
   "metadata": {},
   "outputs": [
    {
     "data": {
      "text/plain": [
       "[{'make': 'Mi Max', 'model': '2', 'color': 'Gold'},\n",
       " {'make': 'Nokia', 'model': 216, 'color': 'Black'},\n",
       " {'make': 'Samsung', 'model': 7, 'color': 'Blue'}]"
      ]
     },
     "execution_count": 12,
     "metadata": {},
     "output_type": "execute_result"
    }
   ],
   "source": [
    "sort_list_dicts()"
   ]
  },
  {
   "cell_type": "code",
   "execution_count": 4,
   "metadata": {},
   "outputs": [
    {
     "name": "stdout",
     "output_type": "stream",
     "text": [
      "1\n",
      "4\n",
      "9\n",
      "16\n",
      "25\n",
      "36\n",
      "49\n",
      "64\n",
      "81\n",
      "100\n",
      "1\n",
      "8\n",
      "27\n",
      "64\n",
      "125\n",
      "216\n",
      "343\n",
      "512\n",
      "729\n",
      "1000\n"
     ]
    },
    {
     "data": {
      "text/plain": [
       "[None, None, None, None, None, None, None, None, None, None]"
      ]
     },
     "execution_count": 4,
     "metadata": {},
     "output_type": "execute_result"
    }
   ],
   "source": [
    "arr = [1,2,3,4,5,6,7,8,9,10]\n",
    "list(map(lambda x: print(x ** 2), arr))\n",
    "list(map(lambda x: print(x ** 3), arr))"
   ]
  },
  {
   "cell_type": "code",
   "execution_count": 61,
   "metadata": {},
   "outputs": [],
   "source": [
    "class Game:\n",
    "\n",
    "    def __init__(self, players=1):\n",
    "        self.players = players\n",
    "\n",
    "    def _play(self):\n",
    "        print(\"Game begins NOW\")\n",
    "        print(f\"Players: {self.players}\")\n",
    "\n",
    "class Hangman(Game):\n",
    "    difficalty_dict = {'beginner': 8, 'intermediate': 5,'advanced': 3}\n",
    "    difficalty_curr = 'beginner'\n",
    "    attempts = 8\n",
    "\n",
    "    def __init__(self, players):\n",
    "        super().__init__(players)\n",
    "\n",
    "        difficalty_list = list(self.difficalty_dict.keys())\n",
    "        [print(str(i+1) + \". \" + difficalty_list[i]) for i in range(len(difficalty_list))]\n",
    "        user_pick = int(input())-1\n",
    "        self.difficalty_curr = difficalty_list[user_pick]\n",
    "        self.attempts = self.difficalty_dict.get(self.difficalty_curr)\n",
    "        print(self.players)\n",
    "        if self.players > 1:\n",
    "            self.the_word = \"27\"\n",
    "            while not self.the_word.isalpha() or len(self.the_word) < 3:\n",
    "                self.the_word = input(\"Wymyśl slowo dla przeciwnika: \")\n",
    "                if not self.the_word.isalpha():\n",
    "                    print(\"only alphabethic characters please\")\n",
    "                if len(self.the_word) < 3:\n",
    "                    print(\"try a bit longer word\")\n",
    "\n",
    "                \n",
    "            \n",
    "        self._play()\n",
    "\n",
    "    def _play(self):\n",
    "        super()._play() \n",
    "        print(f\"Difficalty: {self.difficalty_curr}\")\n",
    "        self._main_loop()\n",
    "    \n",
    "    def _main_loop(self):\n",
    "        flag = True\n",
    "        guessed = set()\n",
    "        displayed_word = ''.join(['_' for i in self.the_word])\n",
    "        while flag:\n",
    "            print(displayed_word)\n",
    "            player_gues = input(\"Put one Letter\")\n",
    "            if player_gues.isalpha() and len(player_gues)==1:\n",
    "                if player_gues in self.the_word:\n",
    "                    guessed.add(player_gues)\n",
    "                    displayed_word = ''.join(['_' if (i not in guessed) else i for i in self.the_word ])\n",
    "                    if '_' not in displayed_word:\n",
    "                        flag = False\n",
    "                print()\n",
    "            else:\n",
    "                print()\n",
    "\n",
    "\n"
   ]
  },
  {
   "cell_type": "code",
   "execution_count": 62,
   "metadata": {},
   "outputs": [
    {
     "name": "stdout",
     "output_type": "stream",
     "text": [
      "1. beginner\n",
      "2. intermediate\n",
      "3. advanced\n",
      "2\n",
      "Game begins NOW\n",
      "Players: 2\n",
      "Difficalty: beginner\n",
      "_____\n",
      "\n",
      "h____\n",
      "\n",
      "h_ll_\n",
      "\n",
      "h_llo\n",
      "\n",
      "h_llo\n",
      "\n",
      "hello\n"
     ]
    },
    {
     "ename": "KeyboardInterrupt",
     "evalue": "Interrupted by user",
     "output_type": "error",
     "traceback": [
      "\u001b[0;31m---------------------------------------------------------------------------\u001b[0m",
      "\u001b[0;31mKeyboardInterrupt\u001b[0m                         Traceback (most recent call last)",
      "\u001b[1;32m/Users/serhi/Desktop/Homework PAD/Homework_PAD/2.HomeWork.ipynb Cell 6'\u001b[0m in \u001b[0;36m<cell line: 1>\u001b[0;34m()\u001b[0m\n\u001b[0;32m----> <a href='vscode-notebook-cell:/Users/serhi/Desktop/Homework%20PAD/Homework_PAD/2.HomeWork.ipynb#ch0000006?line=0'>1</a>\u001b[0m hang_game \u001b[39m=\u001b[39m Hangman(\u001b[39mint\u001b[39;49m(\u001b[39minput\u001b[39;49m(\u001b[39m\"\u001b[39;49m\u001b[39mHow many players ?: \u001b[39;49m\u001b[39m\"\u001b[39;49m)))\n",
      "\u001b[1;32m/Users/serhi/Desktop/Homework PAD/Homework_PAD/2.HomeWork.ipynb Cell 5'\u001b[0m in \u001b[0;36mHangman.__init__\u001b[0;34m(self, players)\u001b[0m\n\u001b[1;32m     <a href='vscode-notebook-cell:/Users/serhi/Desktop/Homework%20PAD/Homework_PAD/2.HomeWork.ipynb#ch0000002?line=29'>30</a>\u001b[0m         \u001b[39mif\u001b[39;00m \u001b[39mlen\u001b[39m(\u001b[39mself\u001b[39m\u001b[39m.\u001b[39mthe_word) \u001b[39m<\u001b[39m \u001b[39m3\u001b[39m:\n\u001b[1;32m     <a href='vscode-notebook-cell:/Users/serhi/Desktop/Homework%20PAD/Homework_PAD/2.HomeWork.ipynb#ch0000002?line=30'>31</a>\u001b[0m             \u001b[39mprint\u001b[39m(\u001b[39m\"\u001b[39m\u001b[39mtry a bit longer word\u001b[39m\u001b[39m\"\u001b[39m)\n\u001b[0;32m---> <a href='vscode-notebook-cell:/Users/serhi/Desktop/Homework%20PAD/Homework_PAD/2.HomeWork.ipynb#ch0000002?line=34'>35</a>\u001b[0m \u001b[39mself\u001b[39;49m\u001b[39m.\u001b[39;49m_play()\n",
      "\u001b[1;32m/Users/serhi/Desktop/Homework PAD/Homework_PAD/2.HomeWork.ipynb Cell 5'\u001b[0m in \u001b[0;36mHangman._play\u001b[0;34m(self)\u001b[0m\n\u001b[1;32m     <a href='vscode-notebook-cell:/Users/serhi/Desktop/Homework%20PAD/Homework_PAD/2.HomeWork.ipynb#ch0000002?line=37'>38</a>\u001b[0m \u001b[39msuper\u001b[39m()\u001b[39m.\u001b[39m_play() \n\u001b[1;32m     <a href='vscode-notebook-cell:/Users/serhi/Desktop/Homework%20PAD/Homework_PAD/2.HomeWork.ipynb#ch0000002?line=38'>39</a>\u001b[0m \u001b[39mprint\u001b[39m(\u001b[39mf\u001b[39m\u001b[39m\"\u001b[39m\u001b[39mDifficalty: \u001b[39m\u001b[39m{\u001b[39;00m\u001b[39mself\u001b[39m\u001b[39m.\u001b[39mdifficalty_curr\u001b[39m}\u001b[39;00m\u001b[39m\"\u001b[39m)\n\u001b[0;32m---> <a href='vscode-notebook-cell:/Users/serhi/Desktop/Homework%20PAD/Homework_PAD/2.HomeWork.ipynb#ch0000002?line=39'>40</a>\u001b[0m \u001b[39mself\u001b[39;49m\u001b[39m.\u001b[39;49m_main_loop()\n",
      "\u001b[1;32m/Users/serhi/Desktop/Homework PAD/Homework_PAD/2.HomeWork.ipynb Cell 5'\u001b[0m in \u001b[0;36mHangman._main_loop\u001b[0;34m(self)\u001b[0m\n\u001b[1;32m     <a href='vscode-notebook-cell:/Users/serhi/Desktop/Homework%20PAD/Homework_PAD/2.HomeWork.ipynb#ch0000002?line=45'>46</a>\u001b[0m \u001b[39mwhile\u001b[39;00m flag:\n\u001b[1;32m     <a href='vscode-notebook-cell:/Users/serhi/Desktop/Homework%20PAD/Homework_PAD/2.HomeWork.ipynb#ch0000002?line=46'>47</a>\u001b[0m     \u001b[39mprint\u001b[39m(displayed_word)\n\u001b[0;32m---> <a href='vscode-notebook-cell:/Users/serhi/Desktop/Homework%20PAD/Homework_PAD/2.HomeWork.ipynb#ch0000002?line=47'>48</a>\u001b[0m     player_gues \u001b[39m=\u001b[39m \u001b[39minput\u001b[39;49m(\u001b[39m\"\u001b[39;49m\u001b[39mPut one Letter\u001b[39;49m\u001b[39m\"\u001b[39;49m)\n\u001b[1;32m     <a href='vscode-notebook-cell:/Users/serhi/Desktop/Homework%20PAD/Homework_PAD/2.HomeWork.ipynb#ch0000002?line=48'>49</a>\u001b[0m     \u001b[39mif\u001b[39;00m player_gues\u001b[39m.\u001b[39misalpha() \u001b[39mand\u001b[39;00m \u001b[39mlen\u001b[39m(player_gues)\u001b[39m==\u001b[39m\u001b[39m1\u001b[39m:\n\u001b[1;32m     <a href='vscode-notebook-cell:/Users/serhi/Desktop/Homework%20PAD/Homework_PAD/2.HomeWork.ipynb#ch0000002?line=49'>50</a>\u001b[0m         \u001b[39mif\u001b[39;00m player_gues \u001b[39min\u001b[39;00m \u001b[39mself\u001b[39m\u001b[39m.\u001b[39mthe_word:\n",
      "File \u001b[0;32m/opt/homebrew/lib/python3.9/site-packages/ipykernel/kernelbase.py:1075\u001b[0m, in \u001b[0;36mKernel.raw_input\u001b[0;34m(self, prompt)\u001b[0m\n\u001b[1;32m   <a href='file:///opt/homebrew/lib/python3.9/site-packages/ipykernel/kernelbase.py?line=1070'>1071</a>\u001b[0m \u001b[39mif\u001b[39;00m \u001b[39mnot\u001b[39;00m \u001b[39mself\u001b[39m\u001b[39m.\u001b[39m_allow_stdin:\n\u001b[1;32m   <a href='file:///opt/homebrew/lib/python3.9/site-packages/ipykernel/kernelbase.py?line=1071'>1072</a>\u001b[0m     \u001b[39mraise\u001b[39;00m StdinNotImplementedError(\n\u001b[1;32m   <a href='file:///opt/homebrew/lib/python3.9/site-packages/ipykernel/kernelbase.py?line=1072'>1073</a>\u001b[0m         \u001b[39m\"\u001b[39m\u001b[39mraw_input was called, but this frontend does not support input requests.\u001b[39m\u001b[39m\"\u001b[39m\n\u001b[1;32m   <a href='file:///opt/homebrew/lib/python3.9/site-packages/ipykernel/kernelbase.py?line=1073'>1074</a>\u001b[0m     )\n\u001b[0;32m-> <a href='file:///opt/homebrew/lib/python3.9/site-packages/ipykernel/kernelbase.py?line=1074'>1075</a>\u001b[0m \u001b[39mreturn\u001b[39;00m \u001b[39mself\u001b[39;49m\u001b[39m.\u001b[39;49m_input_request(\n\u001b[1;32m   <a href='file:///opt/homebrew/lib/python3.9/site-packages/ipykernel/kernelbase.py?line=1075'>1076</a>\u001b[0m     \u001b[39mstr\u001b[39;49m(prompt),\n\u001b[1;32m   <a href='file:///opt/homebrew/lib/python3.9/site-packages/ipykernel/kernelbase.py?line=1076'>1077</a>\u001b[0m     \u001b[39mself\u001b[39;49m\u001b[39m.\u001b[39;49m_parent_ident[\u001b[39m\"\u001b[39;49m\u001b[39mshell\u001b[39;49m\u001b[39m\"\u001b[39;49m],\n\u001b[1;32m   <a href='file:///opt/homebrew/lib/python3.9/site-packages/ipykernel/kernelbase.py?line=1077'>1078</a>\u001b[0m     \u001b[39mself\u001b[39;49m\u001b[39m.\u001b[39;49mget_parent(\u001b[39m\"\u001b[39;49m\u001b[39mshell\u001b[39;49m\u001b[39m\"\u001b[39;49m),\n\u001b[1;32m   <a href='file:///opt/homebrew/lib/python3.9/site-packages/ipykernel/kernelbase.py?line=1078'>1079</a>\u001b[0m     password\u001b[39m=\u001b[39;49m\u001b[39mFalse\u001b[39;49;00m,\n\u001b[1;32m   <a href='file:///opt/homebrew/lib/python3.9/site-packages/ipykernel/kernelbase.py?line=1079'>1080</a>\u001b[0m )\n",
      "File \u001b[0;32m/opt/homebrew/lib/python3.9/site-packages/ipykernel/kernelbase.py:1120\u001b[0m, in \u001b[0;36mKernel._input_request\u001b[0;34m(self, prompt, ident, parent, password)\u001b[0m\n\u001b[1;32m   <a href='file:///opt/homebrew/lib/python3.9/site-packages/ipykernel/kernelbase.py?line=1116'>1117</a>\u001b[0m             \u001b[39mbreak\u001b[39;00m\n\u001b[1;32m   <a href='file:///opt/homebrew/lib/python3.9/site-packages/ipykernel/kernelbase.py?line=1117'>1118</a>\u001b[0m \u001b[39mexcept\u001b[39;00m \u001b[39mKeyboardInterrupt\u001b[39;00m:\n\u001b[1;32m   <a href='file:///opt/homebrew/lib/python3.9/site-packages/ipykernel/kernelbase.py?line=1118'>1119</a>\u001b[0m     \u001b[39m# re-raise KeyboardInterrupt, to truncate traceback\u001b[39;00m\n\u001b[0;32m-> <a href='file:///opt/homebrew/lib/python3.9/site-packages/ipykernel/kernelbase.py?line=1119'>1120</a>\u001b[0m     \u001b[39mraise\u001b[39;00m \u001b[39mKeyboardInterrupt\u001b[39;00m(\u001b[39m\"\u001b[39m\u001b[39mInterrupted by user\u001b[39m\u001b[39m\"\u001b[39m) \u001b[39mfrom\u001b[39;00m \u001b[39mNone\u001b[39m\n\u001b[1;32m   <a href='file:///opt/homebrew/lib/python3.9/site-packages/ipykernel/kernelbase.py?line=1120'>1121</a>\u001b[0m \u001b[39mexcept\u001b[39;00m \u001b[39mException\u001b[39;00m:\n\u001b[1;32m   <a href='file:///opt/homebrew/lib/python3.9/site-packages/ipykernel/kernelbase.py?line=1121'>1122</a>\u001b[0m     \u001b[39mself\u001b[39m\u001b[39m.\u001b[39mlog\u001b[39m.\u001b[39mwarning(\u001b[39m\"\u001b[39m\u001b[39mInvalid Message:\u001b[39m\u001b[39m\"\u001b[39m, exc_info\u001b[39m=\u001b[39m\u001b[39mTrue\u001b[39;00m)\n",
      "\u001b[0;31mKeyboardInterrupt\u001b[0m: Interrupted by user"
     ]
    }
   ],
   "source": [
    "hang_game = Hangman(int(input(\"How many players ?: \")))"
   ]
  },
  {
   "cell_type": "code",
   "execution_count": null,
   "metadata": {},
   "outputs": [],
   "source": []
  }
 ],
 "metadata": {
  "interpreter": {
   "hash": "b0fa6594d8f4cbf19f97940f81e996739fb7646882a419484c72d19e05852a7e"
  },
  "kernelspec": {
   "display_name": "Python 3.9.7 64-bit",
   "language": "python",
   "name": "python3"
  },
  "language_info": {
   "codemirror_mode": {
    "name": "ipython",
    "version": 3
   },
   "file_extension": ".py",
   "mimetype": "text/x-python",
   "name": "python",
   "nbconvert_exporter": "python",
   "pygments_lexer": "ipython3",
   "version": "3.9.7"
  },
  "orig_nbformat": 4
 },
 "nbformat": 4,
 "nbformat_minor": 2
}
