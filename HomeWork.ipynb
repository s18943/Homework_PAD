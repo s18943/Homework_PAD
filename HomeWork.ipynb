{
 "cells": [
  {
   "cell_type": "markdown",
   "metadata": {},
   "source": [
    "## Zadanie 1"
   ]
  },
  {
   "cell_type": "code",
   "execution_count": 12,
   "metadata": {},
   "outputs": [],
   "source": [
    "MALE = \"Male\"\n",
    "FEMALE = \"Female\"\n",
    "\n",
    "class animal:\n",
    "    isAlive = True\n",
    "    gender = \"Female\"\n",
    "    genus = None\n",
    "\n",
    "    def __init__(self, gender=\"Female\", genus=None):\n",
    "        self.gender = gender\n",
    "        self.genus = genus\n",
    "        \n",
    "    \n",
    "    def breed(self, partner):\n",
    "        try:\n",
    "            if self.gender == \"Female\" and \\\n",
    "                partner.gender == \"Male\" and \\\n",
    "                self.genus == partner.genus:\n",
    "                if self.genus == \"Canis\":\n",
    "                    return dog(MALE)\n",
    "                else: \n",
    "                    return cat(FEMALE)\n",
    "        except:\n",
    "            print(\"attribute not found\")\n",
    "\n",
    "class dog(animal):\n",
    "\n",
    "    def __init__(self, gender):\n",
    "        super().__init__(gender, genus=\"Canis\")\n",
    "       \n",
    "\n",
    "    def woof():\n",
    "        return \"woof woof\"\n",
    "\n",
    "class cat(animal):\n",
    "\n",
    "    def __init__(self, gender):\n",
    "        super().__init__(gender, genus=\"Feis\")\n",
    "        \n",
    "    \n",
    "    def purr():\n",
    "        return \"purr\""
   ]
  },
  {
   "cell_type": "code",
   "execution_count": 13,
   "metadata": {},
   "outputs": [],
   "source": [
    "dogi = dog(MALE)\n",
    "dogj = dog(FEMALE)\n",
    "cati = cat(FEMALE)\n",
    "catj = cat(MALE)\n",
    "baby_dog = dogj.breed(dogi)\n",
    "baby_cat = cati.breed(catj)"
   ]
  },
  {
   "cell_type": "markdown",
   "metadata": {},
   "source": [
    "## Zadanie 2"
   ]
  },
  {
   "cell_type": "code",
   "execution_count": 14,
   "metadata": {},
   "outputs": [],
   "source": [
    "import pandas as pd \n",
    "import datetime\n",
    "\n",
    "\n",
    "class worker:\n",
    "    salary = 0\n",
    "    def __init__(self, name, age, salary):\n",
    "        self.salary = salary\n",
    "        self.name = name\n",
    "        self.age = age\n"
   ]
  },
  {
   "cell_type": "code",
   "execution_count": 26,
   "metadata": {},
   "outputs": [],
   "source": [
    "#policzy średnie zarobki w firmie\n",
    "def count_average_salary(workers: list[worker]):\n",
    "    return sum([w.salary for w in workers])/len(workers)\n",
    "\n",
    "#porówna średni zarobek wśród osób młodszych niż n(30) lat i starszych\n",
    "def count_average_salary_by_age_group(workers: list[worker], age_split_point: int):\n",
    "    current_year = datetime.date.today().year\n",
    "    yonger_workers = [] \n",
    "    older_workers = []\n",
    "    for i in workers:\n",
    "        if current_year - i.age > age_split_point:\n",
    "            older_workers.append(i.salary)\n",
    "        else:\n",
    "            yonger_workers.append(i.salary)\n",
    "    avg_younger_workers = sum(yonger_workers)/len(yonger_workers)\n",
    "    avg_older_workers =sum(older_workers)/len(older_workers)\n",
    "    if avg_younger_workers > avg_older_workers:\n",
    "        print(f\"Yonger workers average salary({avg_younger_workers}) is higher than older workers average salary({avg_older_workers})\")\n",
    "    else:\n",
    "        print(f\"Older workers average salary({avg_older_workers}) is higher than Yonger workers average salary({avg_younger_workers})\")\n",
    "\n",
    "    return sum(older_workers)/len(older_workers), sum(yonger_workers)/len(yonger_workers)"
   ]
  },
  {
   "cell_type": "code",
   "execution_count": 30,
   "metadata": {},
   "outputs": [],
   "source": [
    "input = pd.read_csv(\"input.csv\")\n",
    "workers = [worker(row[\"Name\"],row[\"Age\"],row['Salary']) for _, row in input.iterrows()]"
   ]
  },
  {
   "cell_type": "code",
   "execution_count": 29,
   "metadata": {},
   "outputs": [
    {
     "name": "stdout",
     "output_type": "stream",
     "text": [
      "Average among all workers 1800.0\n",
      "Older workers average salary(1840.0) is higher than Yonger workers average salary(1700.0)\n"
     ]
    },
    {
     "data": {
      "text/plain": [
       "(1840.0, 1700.0)"
      ]
     },
     "execution_count": 29,
     "metadata": {},
     "output_type": "execute_result"
    }
   ],
   "source": [
    "print(\"Average among all workers\", count_average_salary(workers))\n",
    "count_average_salary_by_age_group(workers, 38)"
   ]
  }
 ],
 "metadata": {
  "interpreter": {
   "hash": "b0fa6594d8f4cbf19f97940f81e996739fb7646882a419484c72d19e05852a7e"
  },
  "kernelspec": {
   "display_name": "Python 3.9.7 64-bit",
   "language": "python",
   "name": "python3"
  },
  "language_info": {
   "codemirror_mode": {
    "name": "ipython",
    "version": 3
   },
   "file_extension": ".py",
   "mimetype": "text/x-python",
   "name": "python",
   "nbconvert_exporter": "python",
   "pygments_lexer": "ipython3",
   "version": "3.9.1"
  },
  "orig_nbformat": 4
 },
 "nbformat": 4,
 "nbformat_minor": 2
}
